{
  "nbformat": 4,
  "nbformat_minor": 0,
  "metadata": {
    "colab": {
      "provenance": [],
      "authorship_tag": "ABX9TyObdLBaBzf9GEaMznli+Q9u",
      "include_colab_link": true
    },
    "kernelspec": {
      "name": "python3",
      "display_name": "Python 3"
    },
    "language_info": {
      "name": "python"
    }
  },
  "cells": [
    {
      "cell_type": "markdown",
      "metadata": {
        "id": "view-in-github",
        "colab_type": "text"
      },
      "source": [
        "<a href=\"https://colab.research.google.com/github/SanEv/EXploratory-Data-Analysis/blob/main/OOP_project.ipynb\" target=\"_parent\"><img src=\"https://colab.research.google.com/assets/colab-badge.svg\" alt=\"Open In Colab\"/></a>"
      ]
    },
    {
      "cell_type": "code",
      "execution_count": null,
      "metadata": {
        "colab": {
          "base_uri": "https://localhost:8080/"
        },
        "id": "DkelPH62KBBr",
        "outputId": "e4e1b8e3-28ef-4b9f-919c-e270cc0af40c"
      },
      "outputs": [
        {
          "output_type": "execute_result",
          "data": {
            "text/plain": [
              "{'entities': [{'start': 26,\n",
              "   'end': 36,\n",
              "   'type': 'programming languages',\n",
              "   'text': 'javascript'},\n",
              "  {'start': 102,\n",
              "   'end': 108,\n",
              "   'type': 'programming languages',\n",
              "   'text': 'python'},\n",
              "  {'start': 165, 'end': 167, 'type': 'programming languages', 'text': 'go'}]}"
            ]
          },
          "metadata": {},
          "execution_count": 3
        }
      ],
      "source": [
        "import nlpcloud\n",
        "\n",
        "client = nlpcloud.Client(\"finetuned-gpt-neox-20b\", \"c9b5811d1871209a29edf38d17d6301f1ec83249\", gpu=True, lang=\"en\")\n",
        "client.entities(\"\"\"John Doe started learning Javascript when he was 15 years old. After a couple of years he switched to Python and starter learning low level programming. He is now a Go expert at Google.\"\"\", searched_entity=\"programming languages\")"
      ]
    },
    {
      "cell_type": "code",
      "source": [
        "!pip install nlpcloud"
      ],
      "metadata": {
        "colab": {
          "base_uri": "https://localhost:8080/"
        },
        "id": "GcWSnBT4g6cS",
        "outputId": "49411b60-9ea6-40cc-a54f-6a5e5d5387a5"
      },
      "execution_count": null,
      "outputs": [
        {
          "output_type": "stream",
          "name": "stdout",
          "text": [
            "Looking in indexes: https://pypi.org/simple, https://us-python.pkg.dev/colab-wheels/public/simple/\n",
            "Collecting nlpcloud\n",
            "  Downloading nlpcloud-1.0.38-py3-none-any.whl (4.5 kB)\n",
            "Requirement already satisfied: requests in /usr/local/lib/python3.8/dist-packages (from nlpcloud) (2.23.0)\n",
            "Requirement already satisfied: certifi>=2017.4.17 in /usr/local/lib/python3.8/dist-packages (from requests->nlpcloud) (2022.12.7)\n",
            "Requirement already satisfied: urllib3!=1.25.0,!=1.25.1,<1.26,>=1.21.1 in /usr/local/lib/python3.8/dist-packages (from requests->nlpcloud) (1.24.3)\n",
            "Requirement already satisfied: chardet<4,>=3.0.2 in /usr/local/lib/python3.8/dist-packages (from requests->nlpcloud) (3.0.4)\n",
            "Requirement already satisfied: idna<3,>=2.5 in /usr/local/lib/python3.8/dist-packages (from requests->nlpcloud) (2.10)\n",
            "Installing collected packages: nlpcloud\n",
            "Successfully installed nlpcloud-1.0.38\n"
          ]
        }
      ]
    },
    {
      "cell_type": "code",
      "source": [
        "import nlpcloud\n",
        "class NlpApp:\n",
        "\n",
        "  def __init__(self):\n",
        "    self.__database ={} # database is instance variable. \n",
        "    self.__first_menu() # if you don't call first_menu method from inside \n",
        "    # the constructor then your method will not be executed \n",
        "    # put comment in front of 'self.__first_menu()' and run the cell, you will\n",
        "    # get to know\n",
        "\n",
        "  def __first_menu(self):\n",
        "    first_input=input(\"\"\"\n",
        "    Hi how would you like to proceed?\n",
        "    1. Not a member? Register\n",
        "    2. Already a member? Login\n",
        "    3. Entered by mistake? Exit\n",
        "    \"\"\")\n",
        "\n",
        "    if first_input=='1':\n",
        "      self.__register()\n",
        "    elif first_input=='2':\n",
        "      self.__login()\n",
        "    else:\n",
        "      exit()\n",
        "\n",
        "\n",
        "  def __second_menu(self):\n",
        "    second_input=input(\"\"\"\n",
        "    Hi how would you like to proceed?\n",
        "    1. NER\n",
        "    2. Language Detection\n",
        "    3. Sentiment Analysis\n",
        "    4. Paraphrasing\n",
        "    5.Logout\n",
        "    \"\"\")\n",
        "\n",
        "    if second_input=='1':\n",
        "      self.__ner()\n",
        "    elif second_input=='2':\n",
        "      self.__language_detection()\n",
        "    elif second_input=='3':\n",
        "      self.__sentiment_analysis()\n",
        "    elif second_input=='4':\n",
        "      self.__paraphrasing()\n",
        "    else:\n",
        "      exit()\n",
        "\n",
        "  def __register(self): \n",
        "    # here self is not used in front of variables because you will not use these\n",
        "    # three variables in any other method. \n",
        "    name=input('enter name ')\n",
        "    email=input('enter an email ')\n",
        "    password=input('enter password ')\n",
        "    # Now you will store the name, email and password of the user in the dictionary.\n",
        "    # And you will store like {'abc@gmail.com',['name_of_user','password'],'cde@gmail.com',['name_of_user','password']...}\n",
        "    # And why we made email as the key of dictionary is because email is always unique.\n",
        "    # and also keys in dictionary are unique. One email and two users are not posible.\n",
        "    if email in self.__database:\n",
        "      print('email already exists')\n",
        "    else:\n",
        "      self.__database[email]=[name,password]\n",
        "      print('registration successful.Now login')\n",
        "      print(self.__database)\n",
        "      self.__first_menu()\n",
        "\n",
        "\n",
        "  def __login(self):\n",
        "    # again not using self in front of the local variables because they are used just inside this method.\n",
        "    email= input('enter email ')\n",
        "    password=input('enter password ')\n",
        "    # Now we will enter in the database and check whether this particular email exists in the database or not.\n",
        "    # If email exists then check for the value (which is list-['name_of_user','password']). \n",
        "    # The first item in the list is 'name_of_user' and second is 'password'. You will check if the second item of value is same or not.\n",
        "    if email in self.__database:\n",
        "      if self.__database[email][1]==password:\n",
        "        print('login successful')\n",
        "        self.__second_menu()\n",
        "      else:\n",
        "          print('wrong password, try again')\n",
        "          self.__login()\n",
        "    else:\n",
        "      print('This email is not registered')\n",
        "      self.__first_menu()\n",
        "\n",
        "  def __ner(self):\n",
        "    para=input('enter a paragraph')\n",
        "    search_term=input('what would you like to search')\n",
        "    client = nlpcloud.Client(\"finetuned-gpt-neox-20b\", \"c9b5811d1871209a29edf38d17d6301f1ec83249\", gpu=True, lang=\"en\")\n",
        "    response=client.entities(para,searched_entity=search_term)\n",
        "    print(response)\n",
        "\n",
        "  def __sentiment_analysis(self):\n",
        "    para=input('enter a paragraph')\n",
        "    client = nlpcloud.Client(\"distilbert-base-uncased-emotion\", \"c9b5811d1871209a29edf38d17d6301f1ec83249\", gpu=False, lang=\"en\")\n",
        "    response=client.sentiment(para)\n",
        "    L = []\n",
        "    for i in response['scored_labels']:\n",
        "      L.append(i['score'])\n",
        "\n",
        "    index = sorted(list(enumerate(L)),key=lambda x:x[1],reverse=True)[0][0]\n",
        "\n",
        "    print(response['scored_labels'][index]['label'])\n",
        "    self.__second_menu()\n",
        "\n",
        "  def __language_detection(self):\n",
        "    para=input('enter a paragraph')\n",
        "    client = nlpcloud.Client(\"python-langdetect\", \"c9b5811d1871209a29edf38d17d6301f1ec83249\")\n",
        "    response=client.langdetection(para)\n",
        "    print(response)\n",
        "\n",
        "  def __paraphrasing(self):\n",
        "    para=input('enter a paragraph')\n",
        "    client = nlpcloud.Client(\"finetuned-gpt-neox-20b\", \"c9b5811d1871209a29edf38d17d6301f1ec83249\", gpu=True, lang=\"en\")\n",
        "    response=client.paraphrasing(para)\n",
        "    print(response)\n",
        "\n"
      ],
      "metadata": {
        "id": "PSZvFZIpg8t6"
      },
      "execution_count": null,
      "outputs": []
    },
    {
      "cell_type": "code",
      "source": [
        "obj=NlpApp()"
      ],
      "metadata": {
        "colab": {
          "base_uri": "https://localhost:8080/"
        },
        "id": "J90BULRxo-vM",
        "outputId": "c9304819-55f5-4ed9-e403-c6dc698399e6"
      },
      "execution_count": null,
      "outputs": [
        {
          "output_type": "stream",
          "name": "stdout",
          "text": [
            "\n",
            "    Hi how would you like to proceed?\n",
            "    1. Not a member? Register\n",
            "    2. Already a member? Login\n",
            "    3. Entered by mistake? Exit\n",
            "    1\n",
            "enter name sany\n",
            "enter an email sany@gmail.com\n",
            "enter password 1234\n",
            "registration successful.Now login\n",
            "{'sany@gmail.com': ['sany', '1234']}\n",
            "\n",
            "    Hi how would you like to proceed?\n",
            "    1. Not a member? Register\n",
            "    2. Already a member? Login\n",
            "    3. Entered by mistake? Exit\n",
            "    2\n",
            "enter email sany@gmail.com\n",
            "enter password 1234\n",
            "login successful\n",
            "\n",
            "    Hi how would you like to proceed?\n",
            "    1. NER\n",
            "    2. Language Detection\n",
            "    3. Sentiment Analysis\n",
            "    4. Paraphrasing\n",
            "    5.Logout\n",
            "    4\n",
            "enter a paragraphLanguage has historically been difficult for computers to ‘understand’. Sure, computers can collect, store, and read text inputs but they lack basic language context.\n",
            "{'paraphrased_text': 'Computers have previously been deficient in their ability to comprehend language. Though computers are able to accumulate, save, and look through textual input, they do not have a fundamental familiarity with language.'}\n"
          ]
        }
      ]
    }
  ]
}